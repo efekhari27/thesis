{
 "cells": [
  {
   "cell_type": "code",
   "execution_count": 2,
   "metadata": {},
   "outputs": [],
   "source": [
    "%matplotlib inline\n",
    "import numpy as np\n",
    "import pandas as pd\n",
    "import openturns as ot\n",
    "from matplotlib import cm\n",
    "import matplotlib.pyplot as plt\n",
    "import seaborn as sns"
   ]
  },
  {
   "cell_type": "code",
   "execution_count": 3,
   "metadata": {},
   "outputs": [],
   "source": [
    "from matplotlib import rc, rcParams, style\n",
    "#rcParams['text.usetex'] = True\n",
    "#rc('font', **{'family': 'Times'})\n",
    "#rc('text', usetex=True)\n",
    "rc('font', size=16)# Set the default text font size\n",
    "rc('axes', titlesize=20)# Set the axes title font size\n",
    "rc('axes', labelsize=16)# Set the axes labels font size\n",
    "rc('xtick', labelsize=14)# Set the font size for x tick labels\n",
    "rc('ytick', labelsize=16)# Set the font size for y tick labels\n",
    "rc('legend', fontsize=16)# Set the legend font size"
   ]
  },
  {
   "cell_type": "code",
   "execution_count": 55,
   "metadata": {},
   "outputs": [
    {
     "data": {
      "text/plain": [
       "array([ 1.00000000e+00,  9.80785280e-01,  9.23879533e-01,  8.31469612e-01,\n",
       "        7.07106781e-01,  5.55570233e-01,  3.82683432e-01,  1.95090322e-01,\n",
       "        6.12323400e-17, -1.95090322e-01, -3.82683432e-01, -5.55570233e-01,\n",
       "       -7.07106781e-01, -8.31469612e-01, -9.23879533e-01, -9.80785280e-01])"
      ]
     },
     "execution_count": 55,
     "metadata": {},
     "output_type": "execute_result"
    }
   ],
   "source": [
    "ot_cheb_nodes[:n//2]"
   ]
  },
  {
   "cell_type": "code",
   "execution_count": 79,
   "metadata": {},
   "outputs": [
    {
     "data": {
      "image/png": "[encoded data removed]",
      "text/plain": [
       "<Figure size 700x200 with 1 Axes>"
      ]
     },
     "metadata": {},
     "output_type": "display_data"
    }
   ],
   "source": [
    "n1 = 16\n",
    "n2 = 32\n",
    "ot_cheb_nodes_n1 = np.cos((2 * np.arange(n1)) * np.pi / (2 * n1))\n",
    "ot_cheb_nodes_n2 = np.cos((2 * np.arange(n2)) * np.pi / (2 * n2))\n",
    "\n",
    "plt.figure(figsize=(7, 2))\n",
    "plt.scatter(ot_cheb_nodes_n1, [0] * n1, marker=\".\", color=\"C0\")\n",
    "plt.scatter(ot_cheb_nodes_n2, [0.02] * n2, marker=\".\", color=\"C1\")\n",
    "plt.xlim((-1.1, 1.4))\n",
    "plt.ylim((-0.05, 0.1))\n",
    "plt.grid(True);"
   ]
  },
  {
   "cell_type": "code",
   "execution_count": 46,
   "metadata": {},
   "outputs": [
    {
     "data": {
      "image/png": "[encoded data removed]",
      "text/plain": [
       "<Figure size 700x200 with 1 Axes>"
      ]
     },
     "metadata": {},
     "output_type": "display_data"
    }
   ],
   "source": [
    "n = 4\n",
    "method = 2\n",
    "gauss_legendre_nodes_0 = np.array(ot.GaussLegendre([n]).getNodes())\n",
    "gauss_legendre_nodes_0 = gauss_legendre_nodes_0 * 2 - 1\n",
    "fejer_nodes_0 = ot.FejerAlgorithm([n], method).getNodes()\n",
    "#\n",
    "n1 = 16\n",
    "gauss_legendre_nodes_1 = np.array(ot.GaussLegendre([n1]).getNodes())\n",
    "gauss_legendre_nodes_1 = gauss_legendre_nodes_1 * 2 - 1\n",
    "fejer_nodes_1 = ot.FejerAlgorithm([n1], method).getNodes()\n",
    "#\n",
    "n2 = 64\n",
    "gauss_legendre_nodes_2 = np.array(ot.GaussLegendre([n2]).getNodes())\n",
    "gauss_legendre_nodes_2 = gauss_legendre_nodes_2 * 2 - 1\n",
    "fejer_nodes_2 = ot.FejerAlgorithm([n2], method).getNodes()\n",
    "\n",
    "\n",
    "plt.figure(figsize=(7, 2))\n",
    "plt.scatter(gauss_legendre_nodes_0, [0] * n, marker=\".\", color=\"C0\")\n",
    "plt.scatter(gauss_legendre_nodes_1, [0.02] * n1, marker=\".\", color=\"C0\")\n",
    "plt.scatter(gauss_legendre_nodes_2, [0.04] * n2, marker=\".\", color=\"C0\")\n",
    "\n",
    "plt.scatter(fejer_nodes_0, [0.1] * n, marker=\".\", color=\"C1\")\n",
    "plt.scatter(fejer_nodes_1, [0.12] * n1, marker=\".\", color=\"C1\")\n",
    "plt.scatter(fejer_nodes_2, [0.14] * n2, marker=\".\", color=\"C1\")\n",
    "\n",
    "\n",
    "plt.text(1.05, 0.01, \"Gauss\")\n",
    "plt.text(1.05, 0.11, \"Féjer\")\n",
    "plt.xlim((-1.1, 1.4))\n",
    "plt.ylim((-0.05, 0.18))\n",
    "\n",
    "plt.tick_params(\n",
    "    axis='both',\n",
    "    which='both', \n",
    "    bottom=False,\n",
    "    left=False,\n",
    "    labelleft=False,\n",
    "    top=False, \n",
    "    labelbottom=False\n",
    "    )\n",
    "plt.grid(True)\n",
    "plt.savefig(\"figures/univariate_quadratures.png\", dpi=300, bbox_inches='tight', transparent=True);"
   ]
  },
  {
   "cell_type": "code",
   "execution_count": null,
   "metadata": {},
   "outputs": [],
   "source": []
  },
  {
   "cell_type": "code",
   "execution_count": null,
   "metadata": {},
   "outputs": [],
   "source": []
  },
  {
   "cell_type": "code",
   "execution_count": null,
   "metadata": {},
   "outputs": [],
   "source": []
  }
 ],
 "metadata": {
  "kernelspec": {
   "display_name": "uqwind",
   "language": "python",
   "name": "python3"
  },
  "language_info": {
   "codemirror_mode": {
    "name": "ipython",
    "version": 3
   },
   "file_extension": ".py",
   "mimetype": "text/x-python",
   "name": "python",
   "nbconvert_exporter": "python",
   "pygments_lexer": "ipython3",
   "version": "3.11.3"
  },
  "orig_nbformat": 4
 },
 "nbformat": 4,
 "nbformat_minor": 2
}
