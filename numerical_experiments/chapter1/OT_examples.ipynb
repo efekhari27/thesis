{
 "cells": [
  {
   "cell_type": "code",
   "execution_count": 1,
   "metadata": {},
   "outputs": [],
   "source": [
    "import openturns.viewer as viewer\n",
    "import numpy as np \n",
    "from matplotlib import pylab as plt"
   ]
  },
  {
   "attachments": {},
   "cell_type": "markdown",
   "metadata": {},
   "source": [
    "## Multivariate distribution"
   ]
  },
  {
   "cell_type": "code",
   "execution_count": 2,
   "metadata": {},
   "outputs": [],
   "source": [
    "import openturns as ot\n",
    "# Build multivariate distribution from marginals and copula\n",
    "copula=ot.GumbelCopula(2.0)\n",
    "marginals=[ot.Uniform(1.0, 2.0), ot.Normal(2.0, 3.0)]\n",
    "distribution=ot.ComposedDistribution(marginals, copula)\n",
    "# Compute first moments\n",
    "mean_vector=distribution.getMean()\n",
    "covariance_matrix=distribution.getCovariance()\n",
    "# Compute CDF (respectively PDF)\n",
    "x_cdf=distribution.computeCDF([1.5, 2.5])# x=[1.5, 2.5]\n",
    "a_quantile=distribution.computeQuantile([0.9])# alpha=0.9"
   ]
  },
  {
   "attachments": {},
   "cell_type": "markdown",
   "metadata": {},
   "source": [
    "## Numerical integration"
   ]
  },
  {
   "cell_type": "code",
   "execution_count": 3,
   "metadata": {},
   "outputs": [],
   "source": [
    "import openturns as ot\n",
    "marginals=[ot.Exponential(1.0), ot.Uniform(-1.0, 1.0)]\n",
    "distribution=ot.ComposedDistribution(marginals)\n",
    "# Build a 2D Gaussian quadrature\n",
    "marginal_size_list=[4, 4] # Number of nodes per marginal\n",
    "g_quadrature=ot.GaussProductExperiment(distribution, marginal_size_list)\n",
    "g_nodes, weights=g_quadrature.generateWithWeights()\n",
    "# Build a Monte Carlo design\n",
    "n=16 \n",
    "mc_nodes=distribution.getSample(n)\n",
    "# Build a quasi-Monte Carlo design\n",
    "sequence=ot.HaltonSequence(2) # d=2\n",
    "qmc_experiment=ot.LowDiscrepancyExperiment(sequence, distribution, n)\n",
    "qmc_nodes=qmc_experiment.generate()"
   ]
  },
  {
   "attachments": {},
   "cell_type": "markdown",
   "metadata": {},
   "source": [
    "## Design of experiments"
   ]
  },
  {
   "cell_type": "code",
   "execution_count": 4,
   "metadata": {},
   "outputs": [],
   "source": [
    "import openturns as ot\n",
    "marginals=[ot.Uniform(0.0, 1.0), ot.Uniform(0.0, 1.0)]\n",
    "distribution=ot.ComposedDistribution(marginals)\n",
    "# Build a LHS\n",
    "n=10\n",
    "LHS_exp=ot.LHSExperiment(distribution, n)\n",
    "LHS_design=LHS_exp.generate()\n",
    "# Build an optimized LHS using L2-centered discrepancy\n",
    "LHS_exp=ot.LHSExperiment(distribution, n)\n",
    "SF_metric=ot.SpaceFillingC2()\n",
    "SA_profile=ot.GeometricProfile(10., 0.95, 20000)\n",
    "LHS_opt=ot.SimulatedAnnealingLHS(LHS_exp, SF_metric, SA_profile)\n",
    "LHS_opt.generate()\n",
    "LHS_design=LHS_opt.getResult().getOptimalDesign()"
   ]
  },
  {
   "attachments": {},
   "cell_type": "markdown",
   "metadata": {},
   "source": [
    "## Reliability analysis "
   ]
  },
  {
   "cell_type": "code",
   "execution_count": 5,
   "metadata": {},
   "outputs": [],
   "source": [
    "import openturns as ot\n",
    "marginals=[ot.Normal(0.0, 1.0), ot.Exponential(1.0)]\n",
    "distribution=ot.ComposedDistribution(marginals)\n",
    "# Build a limit-state function and failure event\n",
    "g=ot.SymbolicFunction([\"x1\", \"x2\"], [\"(x1 - x2) ^ 2\"])\n",
    "X=ot.RandomVector(distribution)\n",
    "Y=ot.CompositeRandomVector(g, X)\n",
    "threshold=0.0\n",
    "failure_event=ot.ThresholdEvent(Y, ot.LessOrEqual(), threshold)\n",
    "# Estimate pf using FORM\n",
    "starting_point=distribution.getMean()\n",
    "FORM_algo=ot.FORM(ot.Cobyla(), failure_event, starting_point)\n",
    "FORM_algo.run()\n",
    "FORM_results=FORM_algo.getResult()\n",
    "design_point=FORM_results.getStandardSpaceDesignPoint()\n",
    "FORM_pf=FORM_results.getEventProbability()\n",
    "# Estimate pf using Monte Carlo \n",
    "MC_exp=ot.MonteCarloExperiment()\n",
    "MC_algo=ot.ProbabilitySimulationAlgorithm(failure_event, MC_exp)\n",
    "MC_algo.run()\n",
    "MC_results=MC_algo.getResult()\n",
    "MC_pf=MC_results.getProbabilityEstimate()\n",
    "MC_pf_confidence=MC_results.getConfidenceLength(0.95) # alpha=0.95\n",
    "# Estimate pf using importance sampling\n",
    "aux_distribution=ot.Normal(design_point, [1.0, 1.0])\n",
    "standard_event=ot.StandardEvent(failure_event)\n",
    "IS_exp=ot.ImportanceSamplingExperiment(aux_distribution)\n",
    "IS_algo=ot.ProbabilitySimulationAlgorithm(standard_event, IS_exp)\n",
    "IS_algo.run()\n",
    "IS_results=IS_algo.getResult()\n",
    "IS_pf=IS_results.getProbabilityEstimate()\n",
    "IS_pf_confidence=IS_results.getConfidenceLength(0.95) # alpha=0.95\n",
    "# Estimate pf using subset simulation\n",
    "SS_algo=ot.SubsetSampling(failure_event)\n",
    "SS_algo.run()\n",
    "SS_results=SS_algo.getResult()\n",
    "SS_pf=SS_results.getProbabilityEstimate()\n",
    "SS_pf_confidence=SS_results.getConfidenceLength(0.95) # alpha=0.95"
   ]
  },
  {
   "attachments": {},
   "cell_type": "markdown",
   "metadata": {},
   "source": [
    "## Kriging"
   ]
  },
  {
   "cell_type": "code",
   "execution_count": 6,
   "metadata": {},
   "outputs": [
    {
     "name": "stderr",
     "output_type": "stream",
     "text": [
      "\u001b[34m\u001b[1mWRN - Warning! For coherency we set scale upper bounds = [13.842]\u001b[0m\n"
     ]
    }
   ],
   "source": [
    "g=ot.SymbolicFunction(['x'], ['x * sin(x) + sin(6 * x)'])\n",
    "x_train=ot.Uniform(0., 12.).getSample(7) # n=7\n",
    "y_train=g(x_train)\n",
    "basis=ot.ConstantBasisFactory(1).build() # d=1\n",
    "covariance_model=ot.MaternModel([1.], 1.5)\n",
    "algo=ot.KrigingAlgorithm(x_train, y_train, covariance_model, basis)\n",
    "algo.run()\n",
    "kriging_results=algo.getResult()\n",
    "predictor=kriging_results.getMetaModel()"
   ]
  },
  {
   "cell_type": "code",
   "execution_count": 7,
   "metadata": {},
   "outputs": [],
   "source": [
    "from openturns.usecases import cantilever_beam\n",
    "# Load the cantilever beam model\n",
    "cb=cantilever_beam.CantileverBeam()\n",
    "distribution = cb.distribution\n",
    "E = distribution.getMarginal(0)\n",
    "F = distribution.getMarginal(1)\n",
    "L = distribution.getMarginal(2)\n",
    "I = distribution.getMarginal(3)"
   ]
  },
  {
   "cell_type": "code",
   "execution_count": 8,
   "metadata": {},
   "outputs": [],
   "source": [
    "upper = F * L * L * L\n",
    "lower = 3 * E * I\n",
    "Y = upper / lower"
   ]
  },
  {
   "cell_type": "code",
   "execution_count": 9,
   "metadata": {},
   "outputs": [
    {
     "data": {
      "text/plain": [
       "(array([  8.,  55., 159., 239., 231., 180.,  90.,  27.,   8.,   3.]),\n",
       " array([0.11665656, 0.12943674, 0.14221692, 0.1549971 , 0.16777728,\n",
       "        0.18055746, 0.19333764, 0.20611782, 0.218898  , 0.23167818,\n",
       "        0.24445836]),\n",
       " <BarContainer object of 10 artists>)"
      ]
     },
     "execution_count": 9,
     "metadata": {},
     "output_type": "execute_result"
    },
    {
     "data": {
      "image/png": "[encoded data removed]",
      "text/plain": [
       "<Figure size 640x480 with 1 Axes>"
      ]
     },
     "metadata": {},
     "output_type": "display_data"
    }
   ],
   "source": [
    "y_sample = Y.getSample(1000)\n",
    "plt.hist(np.array(y_sample).flatten())"
   ]
  },
  {
   "cell_type": "code",
   "execution_count": 10,
   "metadata": {},
   "outputs": [
    {
     "name": "stdout",
     "output_type": "stream",
     "text": [
      "1.7293335119461517e-07\n"
     ]
    }
   ],
   "source": [
    "print(1-Y.computeCDF(0.3))"
   ]
  },
  {
   "cell_type": "code",
   "execution_count": 12,
   "metadata": {},
   "outputs": [
    {
     "name": "stdout",
     "output_type": "stream",
     "text": [
      "4.637000000000005e-07\n"
     ]
    }
   ],
   "source": [
    "g = cb.model\n",
    "X = ot.RandomVector(distribution)\n",
    "Y=ot.CompositeRandomVector(g, X)\n",
    "threshold=0.3\n",
    "failure_event=ot.ThresholdEvent(Y, ot.Greater(), threshold)\n",
    "# Estimate pf using subset simulation\n",
    "SS_algo=ot.SubsetSampling(failure_event)\n",
    "SS_algo.run()\n",
    "SS_results=SS_algo.getResult()\n",
    "SS_pf=SS_results.getProbabilityEstimate()\n",
    "print(SS_pf)"
   ]
  },
  {
   "cell_type": "code",
   "execution_count": 13,
   "metadata": {},
   "outputs": [],
   "source": [
    "dim = 5\n",
    "n = int(1e3)\n",
    "distribution = ot.ComposedDistribution([ot.Uniform(0, 1)]*dim)\n",
    "candidate_set = distribution.getSample(n)\n",
    "# Kernel definition\n",
    "ker_list = [ot.MaternModel([0.1], [1.0], 2.5)] * dim\n",
    "kernel = ot.ProductCovarianceModel(ker_list)"
   ]
  },
  {
   "cell_type": "code",
   "execution_count": 14,
   "metadata": {},
   "outputs": [],
   "source": [
    "# Variance-covariance matrix \n",
    "cov_matrix = kernel.discretize(candidate_set)"
   ]
  },
  {
   "cell_type": "code",
   "execution_count": 15,
   "metadata": {},
   "outputs": [],
   "source": [
    "# Variance-covariance matrix \n",
    "ot.ResourceMap.SetAsString(\"KrigingAlgorithm-LinearAlgebra\", \"HMAT\")\n",
    "ot.ResourceMap.SetAsScalar(\"HMatrix-AssemblyEpsilon\", 1e-5)\n",
    "ot.ResourceMap.SetAsScalar(\"HMatrix-RecompressionEpsilon\", 1e-4)\n",
    "cov_matrix = kernel.discretizeHMatrix(candidate_set, ot.HMatrixParameters())"
   ]
  },
  {
   "cell_type": "code",
   "execution_count": 19,
   "metadata": {},
   "outputs": [
    {
     "data": {
      "text/plain": [
       "(592000, 625000)"
      ]
     },
     "execution_count": 19,
     "metadata": {},
     "output_type": "execute_result"
    }
   ],
   "source": [
    "cov_matrix.compressionRatio()"
   ]
  }
 ],
 "metadata": {
  "kernelspec": {
   "display_name": "uqwind",
   "language": "python",
   "name": "python3"
  },
  "language_info": {
   "codemirror_mode": {
    "name": "ipython",
    "version": 3
   },
   "file_extension": ".py",
   "mimetype": "text/x-python",
   "name": "python",
   "nbconvert_exporter": "python",
   "pygments_lexer": "ipython3",
   "version": "3.11.0"
  },
  "orig_nbformat": 4
 },
 "nbformat": 4,
 "nbformat_minor": 2
}
